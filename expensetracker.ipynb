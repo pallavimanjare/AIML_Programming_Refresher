## import csv
from datetime import datetime

class ExpenseTracker:
    def __init__(self):
        # Initialize an empty list for expenses and a default budget
        self.expenses = []
        self.budget = 0
        self.get_expenses_budgets()  # Load expenses from file on initialization

    # Function to get a valid amount from the user
    def get_expense_amount(self):
        while True:
            try:
                amount = float(input("Enter amount: "))
                return amount
            except ValueError:
                print("Invalid amount. Please enter a numeric value.")

    # Function to get a valid date from the user
    def get_date(self):
        while True:
            try:
                date_str = input("Enter a date (YYYY-MM-DD): ")
                date = datetime.strptime(date_str, "%Y-%m-%d")
                return date
            except ValueError:
                print("Invalid date format. Please enter the date in YYYY-MM-DD format.")

    # Define the add_expenses function
    def add_expenses(self):        
        # Accept input from the user        
        date = self.get_date()
        amount = self.get_expense_amount()
        category = input("Enter category: ")
        description = input("Enter description: ")
        self.expenses.append({            
            'date': date,
            'category': category,
            'amount': amount,
            'description': description
        })
        print("Expense added successfully!")

    # Function to save yearly budgets
    def set_budget(self):        
        if self.budget == 0:
            budget_amount = float(input("Enter budget amount: "))
            self.budget = budget_amount
            print("Budget set successfully to", budget_amount)            
        else:            
            print("Budget is already set!", self.budget)

    # Function to view expenses
    def view_expenses(self):
        if not self.expenses:
            print("No expenses recorded.")
            return
        
        for expense in self.expenses:
            if all(key in expense for key in ('date', 'category', 'amount', 'description')):
                print(f"Date: {expense['date']}, Category: {expense['category']}, Amount: {expense['amount']}, Description: {expense['description']}")
            else:
                print("Incomplete expense entry found, skipping...")

    # Function to track the expenses
    def track_budget(self):
        self.set_budget()
        total_expenses = sum(expense['amount'] for expense in self.expenses)
        if total_expenses > self.budget:
            print("You have exceeded your budget of {} total expenses {}!",self.budget,total_expenses)
        else:
            remaining_budget = self.budget - total_expenses
            print(f"You have {remaining_budget} left for the month.")

    # Function to write all expenses and budgets into file
    def save_expenses_budgets(self):
        with open("expensetracker.csv", 'w', newline='') as file:
            writer = csv.writer(file)
            writer.writerow(['date', 'category', 'amount', 'description'])
            for expense in self.expenses:
                writer.writerow([expense['date'].strftime('%Y-%m-%d'), expense['category'], expense['amount'], expense['description']])
        print("Data added into file is completed....")

    # Function to read all expenses and budgets from file
    def get_expenses_budgets(self):
        try:
            with open("expensetracker.csv", 'r') as file:
                reader = csv.DictReader(file)
                self.expenses = []
                for row in reader:
                    if 'date' in row and 'category' in row and 'amount' in row and 'description' in row:
                        row['date'] = datetime.strptime(row['date'], '%Y-%m-%d')
                        row['amount'] = float(row['amount'])
                        self.expenses.append(row)
            print("Expenses loaded from file successfully!")
        except FileNotFoundError:
            print("No existing expenses file found. Starting fresh.")
        except KeyError as e:
            print(f"Missing expected column in CSV file: {e}")
        except Exception as e:
            print(f"An error occurred while reading the file: {e}")

    # Main function to run the menu
    def main(self):
        while True:
            print("\nMenu:")
            print("1. Add Expenses")
            print("2. View Expenses")            
            print("3. Track Budget")
            print("4. Save Expense")
            print("5. Exit")
            
            choice = input("Choose an option (1-5): ")
            if choice == '1':
                self.add_expenses()
            elif choice == '2':
                self.view_expenses()
            elif choice == '3':
                self.track_budget()
            elif choice == '4':
                self.save_expenses_budgets()
            elif choice == '5':
                print("Exiting the program. Goodbye!")
                break
            else:
                print("Invalid choice. Please choose a valid option.")

if __name__ == "__main__":
    tracker = ExpenseTracker()
    tracker.main()
