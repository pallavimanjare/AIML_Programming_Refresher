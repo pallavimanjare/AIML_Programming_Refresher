from datetime import datetime

class ExpenseTracker:
    def __init__(self):
        # Initialize an empty list for expenses
        self.expenses = []
        self.budgets = []

    # Function to display expenses
    def get_all_expenses(self):
        for expense in self.expenses:
            print("Expense:", expense)

    # Function to display budgets
    def get_all_budgets(self):
        for budget in self.budgets:
            print("Budget:", budget)

    # Function to get a valid amount from the user
    def get_expense_amount(self):
        while True:
            try:
                amount = int(input("Enter amount: "))
                return amount
            except ValueError:
                print("Invalid amount. Please enter a numeric value.")

    # Function to get a valid date from the user
    def get_date(self):
        while True:
            try:
                date_str = input("Enter a date (YYYY-MM-DD): ")
                date = datetime.strptime(date_str, "%Y-%m-%d")
                return date
            except ValueError:
                print("Invalid date format. Please enter the date in YYYY-MM-DD format.")

    # Define the add_expenses function
    def add_expenses(self):
        print("Inside add_expenses")
        # Accept input from the user
        name = input("Enter your name: ")
        date = self.get_date()
        amount = self.get_expense_amount()
        category = input("Enter category: ")
        description = input("Enter description: ")
        self.expenses.append({
            'name': name,
            'date': date,
            'category': category,
            'amount': amount,
            'description': description
        })
        print(self.expenses)

    # Function to save yearly budgets
    def set_budget(self):
        print("Inside set_budget")
        year = input("Enter year: ")
        budget_amount = int(input("Enter budget amount: "))
        self.budgets.append({
            'year': year,
            'budget': budget_amount
        })
        print(self.budgets)

    # Function to write all expenses and budgets into file
    def save_expenses_budgets(self):
        with open("expensetracker.csv", 'w') as file:
            for expense in self.expenses:
                file.write(f"{expense}\n")
            for budget in self.budgets:
                file.write(f"{budget}\n")
        print("Data saved into file is completed....")

    # Function to read all expenses and budgets from file
    def get_expenses_budgets(self):
        with open("expensetracker.csv", 'r') as file:
            data = file.read()
            print("Data read from expensetracker.csv:")
            print(data)

    # Main function to run the menu
    def main(self):
        while True:
            print("\nMenu:")
            print("1. Add Expenses")
            print("2. Set Budget")
            print("3. Save into File")
            print("4. Read From File")
            print("5. Exit")
            choice = input("Choose an option (1-5): ")
            if choice == '1':
                self.add_expenses()
            elif choice == '2':
                self.set_budget()
            elif choice == '3':
                self.save_expenses_budgets()
            elif choice == '4':
                self.get_expenses_budgets()
            elif choice == '5':
                print("Exiting the program. Goodbye!")
                break
            else:
                print("Invalid choice. Please choose a valid option.")

if __name__ == "__main__":
    tracker = ExpenseTracker()
    tracker.main()
